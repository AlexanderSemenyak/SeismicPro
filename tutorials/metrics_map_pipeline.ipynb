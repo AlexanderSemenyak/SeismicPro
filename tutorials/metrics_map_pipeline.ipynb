{
 "cells": [
  {
   "cell_type": "code",
   "execution_count": 1,
   "metadata": {},
   "outputs": [],
   "source": [
    "import sys\n",
    "import re\n",
    "import numpy as np\n",
    "import matplotlib.pyplot as plt\n",
    "import seaborn as sns\n",
    "\n",
    "sys.path.append('..')\n",
    "  \n",
    "from seismicpro.src import FieldIndex, SeismicBatch, SeismicDataset\n",
    "from seismicpro.src.seismic_metrics import MetricsMap, SemblanceMetrics\n",
    "from seismicpro.batchflow import I, V, B, Pipeline, R, P"
   ]
  },
  {
   "cell_type": "code",
   "execution_count": 2,
   "metadata": {},
   "outputs": [],
   "source": [
    "path_raw = '../datasets/DN02A_LIFT_AMPSCAL.sgy'\n",
    "path_lift = '../datasets/DN02B_SHOTS_LIFT1.sgy'\n",
    "index = (FieldIndex(name='raw', extra_headers=['offset', 'SourceX', 'SourceY'], path=path_raw)\n",
    "         .merge(FieldIndex(name='lift', extra_headers=['offset', 'SourceX', 'SourceY'], path=path_lift)))\n",
    "dataset = SeismicDataset(index)"
   ]
  },
  {
   "cell_type": "code",
   "execution_count": 6,
   "metadata": {},
   "outputs": [],
   "source": [
    "pipeline = (dataset.p\n",
    "            .add_namespace(SemblanceMetrics)\n",
    "            .init_variable('metrics')\n",
    "            .load(fmt='segy', components=('raw', 'lift'), tslice=slice(3000))\n",
    "            .sort_traces(src=('raw', 'lift'), dst=('raw', 'lift'), sort_by='offset')\n",
    "            .apply_transform(func=lambda x, y: x - y, src=('raw', 'lift'), dst='raw')\n",
    "            .calculate_minmax(B(), src='raw', dst='minmax_metrics')\n",
    "            .gather_metrics(MetricsMap, metrics=B('minmax_metrics'),\n",
    "                            coords=B('index').get_df()[[\"SourceX\", \"SourceY\"]].drop_duplicates().values,\n",
    "                            save_to=V('metrics', mode='a'))\n",
    "            .run_later(1, shuffle=True, n_epochs=1, drop_last=False, bar=True)\n",
    ")"
   ]
  },
  {
   "cell_type": "code",
   "execution_count": 7,
   "metadata": {},
   "outputs": [
    {
     "name": "stderr",
     "output_type": "stream",
     "text": [
      "100%|██████████| 51/51 [00:25<00:00,  2.04it/s]\n"
     ]
    },
    {
     "data": {
      "text/plain": [
       "<seismicpro.batchflow.batchflow.pipeline.Pipeline at 0x7f18eedbb0b8>"
      ]
     },
     "execution_count": 7,
     "metadata": {},
     "output_type": "execute_result"
    }
   ],
   "source": [
    "pipeline.run()"
   ]
  },
  {
   "cell_type": "code",
   "execution_count": 8,
   "metadata": {},
   "outputs": [
    {
     "data": {
      "image/png": "[encoded data removed]",
      "text/plain": [
       "<Figure size 720x504 with 2 Axes>"
      ]
     },
     "metadata": {
      "needs_background": "light"
     },
     "output_type": "display_data"
    },
    {
     "name": "stdout",
     "output_type": "stream",
     "text": [
      "Mean value of metrics: 25.0\n"
     ]
    }
   ],
   "source": [
    "metrics = pipeline.v('metrics')\n",
    "mean_metrics = metrics.evaluate('map', bin_size=49, title='49', figsize=(10, 7), save_dir=None, pad=True)\n",
    "print('Mean value of metrics: {:.3}'.format(mean_metrics))"
   ]
  }
 ],
 "metadata": {
  "kernelspec": {
   "display_name": "Python 3",
   "language": "python",
   "name": "python3"
  },
  "language_info": {
   "codemirror_mode": {
    "name": "ipython",
    "version": 3
   },
   "file_extension": ".py",
   "mimetype": "text/x-python",
   "name": "python",
   "nbconvert_exporter": "python",
   "pygments_lexer": "ipython3",
   "version": "3.6.9"
  }
 },
 "nbformat": 4,
 "nbformat_minor": 4
}
