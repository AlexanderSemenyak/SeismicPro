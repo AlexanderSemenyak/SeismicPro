{
 "cells": [
  {
   "cell_type": "code",
   "execution_count": 1,
   "metadata": {},
   "outputs": [],
   "source": [
    "import sys\n",
    "import re\n",
    "import segyio\n",
    "import numpy as np\n",
    "import matplotlib.pyplot as plt\n",
    "import seaborn as sns\n",
    "from scipy.signal import hilbert\n",
    "\n",
    "sys.path.append('..')\n",
    "  \n",
    "from seismicpro.src import FieldIndex, SeismicBatch, SeismicDataset, seismic_plot, CustomIndex\n",
    "from seismicpro.src.seismic_metrics import MetricsMap, PM, SemblanceMetrics\n",
    "from seismicpro.batchflow import I, V, B, Pipeline, R, P\n",
    "\n",
    "from datasets.paths import *"
   ]
  },
  {
   "cell_type": "code",
   "execution_count": 2,
   "metadata": {},
   "outputs": [],
   "source": [
    "index_good = FieldIndex(name='raw', path='/data/PROD/Vaysky_mute_eq.sgy', markup_path='/data/PROD/Vaysky_pickingWZ.csv', \n",
    "                   extra_headers=['offset', 'GroupX', 'GroupY', 'SourceX', 'SourceY'])#, 'ReceiverGroupElevation', 'SourceSurfaceElevation', 'SourceMeasurementMantissa', 'SourceWaterDepth'])\n",
    "# index_bad = FieldIndex(name='raw', path=path, markup_path='/data/PROD/Vaysky_picking.csv', \n",
    "#                    extra_headers=['offset', 'GroupX', 'GroupY', 'SourceX', 'SourceY', 'ReceiverDatumElevation'])"
   ]
  },
  {
   "cell_type": "code",
   "execution_count": 3,
   "metadata": {},
   "outputs": [
    {
     "data": {
      "text/html": [
       "<div>\n",
       "<style scoped>\n",
       "    .dataframe tbody tr th:only-of-type {\n",
       "        vertical-align: middle;\n",
       "    }\n",
       "\n",
       "    .dataframe tbody tr th {\n",
       "        vertical-align: top;\n",
       "    }\n",
       "\n",
       "    .dataframe thead tr th {\n",
       "        text-align: left;\n",
       "    }\n",
       "\n",
       "    .dataframe thead tr:last-of-type th {\n",
       "        text-align: right;\n",
       "    }\n",
       "</style>\n",
       "<table border=\"1\" class=\"dataframe\">\n",
       "  <thead>\n",
       "    <tr>\n",
       "      <th></th>\n",
       "      <th>offset</th>\n",
       "      <th>GroupX</th>\n",
       "      <th>SourceY</th>\n",
       "      <th>TraceNumber</th>\n",
       "      <th>SourceX</th>\n",
       "      <th>GroupY</th>\n",
       "      <th>FIRST_BREAK_TIME</th>\n",
       "      <th>TRACE_SEQUENCE_FILE</th>\n",
       "      <th>file_id</th>\n",
       "    </tr>\n",
       "    <tr>\n",
       "      <th></th>\n",
       "      <th></th>\n",
       "      <th></th>\n",
       "      <th></th>\n",
       "      <th></th>\n",
       "      <th></th>\n",
       "      <th></th>\n",
       "      <th></th>\n",
       "      <th>raw</th>\n",
       "      <th>raw</th>\n",
       "    </tr>\n",
       "    <tr>\n",
       "      <th>FieldRecord</th>\n",
       "      <th></th>\n",
       "      <th></th>\n",
       "      <th></th>\n",
       "      <th></th>\n",
       "      <th></th>\n",
       "      <th></th>\n",
       "      <th></th>\n",
       "      <th></th>\n",
       "      <th></th>\n",
       "    </tr>\n",
       "  </thead>\n",
       "  <tbody>\n",
       "    <tr>\n",
       "      <th>70</th>\n",
       "      <td>-79</td>\n",
       "      <td>4665755</td>\n",
       "      <td>66053770</td>\n",
       "      <td>1656</td>\n",
       "      <td>4666003</td>\n",
       "      <td>66053020</td>\n",
       "      <td>108.0</td>\n",
       "      <td>1</td>\n",
       "      <td>/data/PROD/Vaysky_mute_eq.sgy</td>\n",
       "    </tr>\n",
       "    <tr>\n",
       "      <th>70</th>\n",
       "      <td>1619</td>\n",
       "      <td>4681749</td>\n",
       "      <td>66053770</td>\n",
       "      <td>1544</td>\n",
       "      <td>4666003</td>\n",
       "      <td>66050020</td>\n",
       "      <td>1044.0</td>\n",
       "      <td>552</td>\n",
       "      <td>/data/PROD/Vaysky_mute_eq.sgy</td>\n",
       "    </tr>\n",
       "    <tr>\n",
       "      <th>70</th>\n",
       "      <td>1621</td>\n",
       "      <td>4680744</td>\n",
       "      <td>66053770</td>\n",
       "      <td>1398</td>\n",
       "      <td>4666003</td>\n",
       "      <td>66047025</td>\n",
       "      <td>1048.0</td>\n",
       "      <td>553</td>\n",
       "      <td>/data/PROD/Vaysky_mute_eq.sgy</td>\n",
       "    </tr>\n",
       "    <tr>\n",
       "      <th>70</th>\n",
       "      <td>1621</td>\n",
       "      <td>4673750</td>\n",
       "      <td>66053770</td>\n",
       "      <td>2392</td>\n",
       "      <td>4666003</td>\n",
       "      <td>66068010</td>\n",
       "      <td>1048.0</td>\n",
       "      <td>554</td>\n",
       "      <td>/data/PROD/Vaysky_mute_eq.sgy</td>\n",
       "    </tr>\n",
       "    <tr>\n",
       "      <th>70</th>\n",
       "      <td>-1622</td>\n",
       "      <td>4651260</td>\n",
       "      <td>66053770</td>\n",
       "      <td>1339</td>\n",
       "      <td>4666003</td>\n",
       "      <td>66047015</td>\n",
       "      <td>1056.0</td>\n",
       "      <td>555</td>\n",
       "      <td>/data/PROD/Vaysky_mute_eq.sgy</td>\n",
       "    </tr>\n",
       "  </tbody>\n",
       "</table>\n",
       "</div>"
      ],
      "text/plain": [
       "            offset   GroupX   SourceY TraceNumber  SourceX    GroupY  \\\n",
       "                                                                       \n",
       "FieldRecord                                                            \n",
       "70             -79  4665755  66053770        1656  4666003  66053020   \n",
       "70            1619  4681749  66053770        1544  4666003  66050020   \n",
       "70            1621  4680744  66053770        1398  4666003  66047025   \n",
       "70            1621  4673750  66053770        2392  4666003  66068010   \n",
       "70           -1622  4651260  66053770        1339  4666003  66047015   \n",
       "\n",
       "            FIRST_BREAK_TIME TRACE_SEQUENCE_FILE  \\\n",
       "                                             raw   \n",
       "FieldRecord                                        \n",
       "70                     108.0                   1   \n",
       "70                    1044.0                 552   \n",
       "70                    1048.0                 553   \n",
       "70                    1048.0                 554   \n",
       "70                    1056.0                 555   \n",
       "\n",
       "                                   file_id  \n",
       "                                       raw  \n",
       "FieldRecord                                 \n",
       "70           /data/PROD/Vaysky_mute_eq.sgy  \n",
       "70           /data/PROD/Vaysky_mute_eq.sgy  \n",
       "70           /data/PROD/Vaysky_mute_eq.sgy  \n",
       "70           /data/PROD/Vaysky_mute_eq.sgy  \n",
       "70           /data/PROD/Vaysky_mute_eq.sgy  "
      ]
     },
     "execution_count": 3,
     "metadata": {},
     "output_type": "execute_result"
    }
   ],
   "source": [
    "index_good.head()"
   ]
  },
  {
   "cell_type": "code",
   "execution_count": 3,
   "metadata": {},
   "outputs": [],
   "source": [
    "df = index_good._idf\n",
    "df.offset = abs(df.offset)\n",
    "#df = df[df['SourceMeasurementMantissa'] > 0]"
   ]
  },
  {
   "cell_type": "code",
   "execution_count": 4,
   "metadata": {},
   "outputs": [],
   "source": [
    "df['CMPX'], df['CMPY'] = (df.GroupX + df.SourceX) // 2, (df.GroupY + df.SourceY) // 2"
   ]
  },
  {
   "cell_type": "code",
   "execution_count": 5,
   "metadata": {},
   "outputs": [],
   "source": [
    "# df = df.groupby(level=0)\n",
    "# df = df.apply( lambda _df : _df.iloc[slice(0, 1000)])\n",
    "# df.index = df.index.droplevel()"
   ]
  },
  {
   "cell_type": "code",
   "execution_count": 6,
   "metadata": {},
   "outputs": [],
   "source": [
    "index_good._idf = df"
   ]
  },
  {
   "cell_type": "code",
   "execution_count": 7,
   "metadata": {},
   "outputs": [],
   "source": [
    "# index_good._idf.GroupX = index_good._idf.GroupX / 10\n",
    "# index_good._idf.GroupY = index_good._idf.GroupY / 10\n",
    "# index_good._idf.SourceY = index_good._idf.SourceY / 10\n",
    "# index_good._idf.SourceX = index_good._idf.SourceX / 10"
   ]
  },
  {
   "cell_type": "code",
   "execution_count": 8,
   "metadata": {},
   "outputs": [],
   "source": [
    "dataset = SeismicDataset(index_good)"
   ]
  },
  {
   "cell_type": "code",
   "execution_count": 10,
   "metadata": {},
   "outputs": [
    {
     "data": {
      "text/html": [
       "<div>\n",
       "<style scoped>\n",
       "    .dataframe tbody tr th:only-of-type {\n",
       "        vertical-align: middle;\n",
       "    }\n",
       "\n",
       "    .dataframe tbody tr th {\n",
       "        vertical-align: top;\n",
       "    }\n",
       "\n",
       "    .dataframe thead tr th {\n",
       "        text-align: left;\n",
       "    }\n",
       "\n",
       "    .dataframe thead tr:last-of-type th {\n",
       "        text-align: right;\n",
       "    }\n",
       "</style>\n",
       "<table border=\"1\" class=\"dataframe\">\n",
       "  <thead>\n",
       "    <tr>\n",
       "      <th></th>\n",
       "      <th>offset</th>\n",
       "      <th>GroupX</th>\n",
       "      <th>SourceY</th>\n",
       "      <th>TraceNumber</th>\n",
       "      <th>SourceX</th>\n",
       "      <th>GroupY</th>\n",
       "      <th>FIRST_BREAK_TIME</th>\n",
       "      <th>TRACE_SEQUENCE_FILE</th>\n",
       "      <th>file_id</th>\n",
       "      <th>CMPX</th>\n",
       "      <th>CMPY</th>\n",
       "    </tr>\n",
       "    <tr>\n",
       "      <th></th>\n",
       "      <th></th>\n",
       "      <th></th>\n",
       "      <th></th>\n",
       "      <th></th>\n",
       "      <th></th>\n",
       "      <th></th>\n",
       "      <th></th>\n",
       "      <th>raw</th>\n",
       "      <th>raw</th>\n",
       "      <th></th>\n",
       "      <th></th>\n",
       "    </tr>\n",
       "    <tr>\n",
       "      <th>FieldRecord</th>\n",
       "      <th></th>\n",
       "      <th></th>\n",
       "      <th></th>\n",
       "      <th></th>\n",
       "      <th></th>\n",
       "      <th></th>\n",
       "      <th></th>\n",
       "      <th></th>\n",
       "      <th></th>\n",
       "      <th></th>\n",
       "      <th></th>\n",
       "    </tr>\n",
       "  </thead>\n",
       "  <tbody>\n",
       "    <tr>\n",
       "      <th>70</th>\n",
       "      <td>79</td>\n",
       "      <td>4665755</td>\n",
       "      <td>66053770</td>\n",
       "      <td>1656</td>\n",
       "      <td>4666003</td>\n",
       "      <td>66053020</td>\n",
       "      <td>108.0</td>\n",
       "      <td>1</td>\n",
       "      <td>/data/PROD/Vaysky_mute_eq.sgy</td>\n",
       "      <td>4665879</td>\n",
       "      <td>66053395</td>\n",
       "    </tr>\n",
       "    <tr>\n",
       "      <th>70</th>\n",
       "      <td>1619</td>\n",
       "      <td>4681749</td>\n",
       "      <td>66053770</td>\n",
       "      <td>1544</td>\n",
       "      <td>4666003</td>\n",
       "      <td>66050020</td>\n",
       "      <td>1044.0</td>\n",
       "      <td>552</td>\n",
       "      <td>/data/PROD/Vaysky_mute_eq.sgy</td>\n",
       "      <td>4673876</td>\n",
       "      <td>66051895</td>\n",
       "    </tr>\n",
       "    <tr>\n",
       "      <th>70</th>\n",
       "      <td>1621</td>\n",
       "      <td>4680744</td>\n",
       "      <td>66053770</td>\n",
       "      <td>1398</td>\n",
       "      <td>4666003</td>\n",
       "      <td>66047025</td>\n",
       "      <td>1048.0</td>\n",
       "      <td>553</td>\n",
       "      <td>/data/PROD/Vaysky_mute_eq.sgy</td>\n",
       "      <td>4673373</td>\n",
       "      <td>66050397</td>\n",
       "    </tr>\n",
       "    <tr>\n",
       "      <th>70</th>\n",
       "      <td>1621</td>\n",
       "      <td>4673750</td>\n",
       "      <td>66053770</td>\n",
       "      <td>2392</td>\n",
       "      <td>4666003</td>\n",
       "      <td>66068010</td>\n",
       "      <td>1048.0</td>\n",
       "      <td>554</td>\n",
       "      <td>/data/PROD/Vaysky_mute_eq.sgy</td>\n",
       "      <td>4669876</td>\n",
       "      <td>66060890</td>\n",
       "    </tr>\n",
       "    <tr>\n",
       "      <th>70</th>\n",
       "      <td>1622</td>\n",
       "      <td>4651260</td>\n",
       "      <td>66053770</td>\n",
       "      <td>1339</td>\n",
       "      <td>4666003</td>\n",
       "      <td>66047015</td>\n",
       "      <td>1056.0</td>\n",
       "      <td>555</td>\n",
       "      <td>/data/PROD/Vaysky_mute_eq.sgy</td>\n",
       "      <td>4658631</td>\n",
       "      <td>66050392</td>\n",
       "    </tr>\n",
       "  </tbody>\n",
       "</table>\n",
       "</div>"
      ],
      "text/plain": [
       "            offset   GroupX   SourceY TraceNumber  SourceX    GroupY  \\\n",
       "                                                                       \n",
       "FieldRecord                                                            \n",
       "70              79  4665755  66053770        1656  4666003  66053020   \n",
       "70            1619  4681749  66053770        1544  4666003  66050020   \n",
       "70            1621  4680744  66053770        1398  4666003  66047025   \n",
       "70            1621  4673750  66053770        2392  4666003  66068010   \n",
       "70            1622  4651260  66053770        1339  4666003  66047015   \n",
       "\n",
       "            FIRST_BREAK_TIME TRACE_SEQUENCE_FILE  \\\n",
       "                                             raw   \n",
       "FieldRecord                                        \n",
       "70                     108.0                   1   \n",
       "70                    1044.0                 552   \n",
       "70                    1048.0                 553   \n",
       "70                    1048.0                 554   \n",
       "70                    1056.0                 555   \n",
       "\n",
       "                                   file_id     CMPX      CMPY  \n",
       "                                       raw                     \n",
       "FieldRecord                                                    \n",
       "70           /data/PROD/Vaysky_mute_eq.sgy  4665879  66053395  \n",
       "70           /data/PROD/Vaysky_mute_eq.sgy  4673876  66051895  \n",
       "70           /data/PROD/Vaysky_mute_eq.sgy  4673373  66050397  \n",
       "70           /data/PROD/Vaysky_mute_eq.sgy  4669876  66060890  \n",
       "70           /data/PROD/Vaysky_mute_eq.sgy  4658631  66050392  "
      ]
     },
     "execution_count": 10,
     "metadata": {},
     "output_type": "execute_result"
    }
   ],
   "source": [
    "index_good.head()"
   ]
  },
  {
   "cell_type": "code",
   "execution_count": 33,
   "metadata": {},
   "outputs": [],
   "source": [
    "pipeline = (dataset.p\n",
    "            .add_namespace(PM)\n",
    "            .init_variable('metrics')\n",
    "            .init_variable('metrics1')\n",
    "            .load(fmt='segy', components='raw')\n",
    "            .load(fmt='index', \n",
    "                  components=('offset', 'TraceNumber', 'GroupX', 'GroupY', 'SourceX', 'SourceY', 'CMPX', 'CMPY'), #, 'GroupElevation', 'SourceElevation'), # picking\n",
    "                  src=('offset', 'TraceNumber', 'GroupX', 'GroupY', 'SourceX', 'SourceY', 'CMPX', 'CMPY'))#, 'ReceiverGroupElevation', 'SourceSurfaceElevation')) # SourceMeasurementMantissa\n",
    "            .load(fmt='picks', components='picking')\n",
    "            .velocity(B(), dst='diff')\n",
    "            .gather_metrics(MetricsMap, metrics=B('diff'),\n",
    "                            coords=B('index').get_df()[[\"CMPX\", 'CMPY']].values,\n",
    "                            save_to=V('metrics', mode='a'))\n",
    "#            .gather_metrics(MetricsMap, metrics=B('diff_elev'),\n",
    "#                             coords=B('index').get_df()[[\"SourceX\", \"SourceY\"]],\n",
    "#                             save_to=V('metrics1', mode='a'))\n",
    "            .run_later(256, shuffle=True, n_epochs=1, drop_last=False, bar=True)\n",
    ")"
   ]
  },
  {
   "cell_type": "code",
   "execution_count": 28,
   "metadata": {},
   "outputs": [],
   "source": [
    "batch = pipeline.next_batch(3)\n",
    "\n",
    "cv = 10000\n",
    "xlim = (0, 400)\n",
    "ylim = (0, 400)\n",
    "\n",
    "pts = (range(len(batch.picking[0])), batch.picking[0] // 2)\n",
    "seismic_plot(batch.raw[0], figsize=(15, 5), cmap='gray', vmax=cv, vmin=-cv, xlim=xlim, ylim=ylim, pts=pts, wiggle=False)\n",
    "analytic = hilbert(batch.raw[0])\n",
    "phase = np.angle(analytic)\n",
    "#phase = np.unwrap(np.angle(analytic))\n",
    "#phase = phase % (2 * np.pi) - np.pi\n",
    "phase_along_pick = [] \n",
    "for i, pick in enumerate(batch.picking[0]):\n",
    "    phase_along_pick.append(phase[i][int(pick//2)])\n",
    "\n",
    "plt.figure(figsize=(15 ,5))\n",
    "phase_along_pick = phase_along_pick[slice(*xlim)]\n",
    "plt.scatter(range(len(phase_along_pick)), phase_along_pick, s=10)"
   ]
  },
  {
   "cell_type": "code",
   "execution_count": null,
   "metadata": {},
   "outputs": [],
   "source": [
    "badd = np.where(np.abs(phase_along_pick) > 1.5)[0]\n",
    "\n",
    "for i in badd:\n",
    "    bad = [i - 3, i -2, i - 1, i, i + 1, i + 2]\n",
    "    pts = (range(len(batch.picking[0][bad])) ,batch.picking[0][bad] // 2)\n",
    "    plt.figure(figsize=(15,5))\n",
    "    phase_along_pick = np.array(phase_along_pick)\n",
    "    ylim = (batch.picking[0][i] // 2 - 100, batch.picking[0][i] // 2 + 100)\n",
    "    seismic_plot(batch.raw[0][bad], cmap='gray', wiggle=True, \n",
    "                 figsize=(15, 5), std=0.1, pts=pts, scatter_color='r', s=30, ylim=ylim)"
   ]
  },
  {
   "cell_type": "code",
   "execution_count": 199,
   "metadata": {},
   "outputs": [
    {
     "data": {
      "text/plain": [
       "[<matplotlib.lines.Line2D at 0x7f10aa9c9ac8>]"
      ]
     },
     "execution_count": 199,
     "metadata": {},
     "output_type": "execute_result"
    },
    {
     "data": {
      "image/png": "[encoded data removed]",
      "text/plain": [
       "<Figure size 432x288 with 1 Axes>"
      ]
     },
     "metadata": {
      "needs_background": "light"
     },
     "output_type": "display_data"
    }
   ],
   "source": [
    "import scipy\n",
    "signal = np.sin(np.arange(0, ., 0.1))\n",
    "plt.plot(signal)\n",
    "plt.plot(np.angle(scipy.signal.hilbert(signal)))"
   ]
  },
  {
   "cell_type": "code",
   "execution_count": null,
   "metadata": {},
   "outputs": [],
   "source": [
    "pipeline.run()"
   ]
  },
  {
   "cell_type": "code",
   "execution_count": null,
   "metadata": {},
   "outputs": [],
   "source": [
    "metrics = pipeline.v('metrics')\n",
    "mean_metrics = metrics.evaluate('map', bin_size=10, figsize=(10, 7), save_dir=None, pad=True, max_value=20)\n",
    "#print('Mean value of metrics: {:.3}'.format(mean_ametrics))"
   ]
  },
  {
   "cell_type": "code",
   "execution_count": 47,
   "metadata": {},
   "outputs": [
    {
     "data": {
      "text/plain": [
       "<matplotlib.collections.PathCollection at 0x7f55a9679780>"
      ]
     },
     "execution_count": 47,
     "metadata": {},
     "output_type": "execute_result"
    },
    {
     "data": {
      "image/png": "[encoded data removed]",
      "text/plain": [
       "<Figure size 432x288 with 1 Axes>"
      ]
     },
     "metadata": {
      "needs_background": "light"
     },
     "output_type": "display_data"
    }
   ],
   "source": [
    "plt.scatter(index_good._idf.CMPX.values, index_good._idf.CMPY.values, s=1)"
   ]
  },
  {
   "cell_type": "code",
   "execution_count": 48,
   "metadata": {},
   "outputs": [
    {
     "data": {
      "text/plain": [
       "<matplotlib.collections.PathCollection at 0x7f55f443b780>"
      ]
     },
     "execution_count": 48,
     "metadata": {},
     "output_type": "execute_result"
    },
    {
     "data": {
      "image/png": "[encoded data removed]",
      "text/plain": [
       "<Figure size 432x288 with 1 Axes>"
      ]
     },
     "metadata": {
      "needs_background": "light"
     },
     "output_type": "display_data"
    }
   ],
   "source": [
    "plt.scatter(index_good._idf.SourceX.values, index_good._idf.SourceY.values, s=1)"
   ]
  },
  {
   "cell_type": "code",
   "execution_count": 145,
   "metadata": {},
   "outputs": [
    {
     "data": {
      "image/png": "[encoded data removed]",
      "text/plain": [
       "<Figure size 720x504 with 2 Axes>"
      ]
     },
     "metadata": {
      "needs_background": "light"
     },
     "output_type": "display_data"
    },
    {
     "name": "stdout",
     "output_type": "stream",
     "text": [
      "Mean value of metrics: 0.0652\n"
     ]
    }
   ],
   "source": [
    "metrics = pipeline.v('metrics1')\n",
    "mean_metrics = metrics.evaluate('map', bin_size=40, figsize=(10, 7), save_dir=None, pad=True, max_value=0.5)\n",
    "print('Mean value of metrics: {:.3}'.format(mean_metrics))"
   ]
  }
 ],
 "metadata": {
  "kernelspec": {
   "display_name": "Python 3",
   "language": "python",
   "name": "python3"
  },
  "language_info": {
   "codemirror_mode": {
    "name": "ipython",
    "version": 3
   },
   "file_extension": ".py",
   "mimetype": "text/x-python",
   "name": "python",
   "nbconvert_exporter": "python",
   "pygments_lexer": "ipython3",
   "version": "3.6.9"
  }
 },
 "nbformat": 4,
 "nbformat_minor": 4
}
