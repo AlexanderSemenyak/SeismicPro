{
 "cells": [
  {
   "cell_type": "markdown",
   "metadata": {},
   "source": [
    "### Single pipeline to find velocity law "
   ]
  },
  {
   "cell_type": "code",
   "execution_count": 72,
   "metadata": {},
   "outputs": [],
   "source": [
    "import sys\n",
    "import numpy as np\n",
    "\n",
    "sys.path.append('..')\n",
    "\n",
    "from seismicpro.src import seismic_plot, FieldIndex, SeismicDataset, CustomIndex, TraceIndex\n",
    "from seismicpro.src.plot_utils import semblance_plot\n",
    "from seismicpro.src.seismic_metrics import PickingMetrics, SemblanceMetrics, MetricsMap\n",
    "\n",
    "from seismicpro.batchflow import B, V, I\n",
    "from seismicpro.batchflow.models.torch import UNet\n",
    "\n",
    "import warnings\n",
    "warnings.filterwarnings('ignore')"
   ]
  },
  {
   "cell_type": "code",
   "execution_count": 2,
   "metadata": {},
   "outputs": [
    {
     "name": "stdout",
     "output_type": "stream",
     "text": [
      "env: CUDA_VISIBLE_DEVICES=2\n"
     ]
    }
   ],
   "source": [
    "%env CUDA_VISIBLE_DEVICES=2"
   ]
  },
  {
   "cell_type": "markdown",
   "metadata": {},
   "source": [
    "Loading the data and CDP index creation"
   ]
  },
  {
   "cell_type": "code",
   "execution_count": 3,
   "metadata": {},
   "outputs": [],
   "source": [
    "supergather_path = '/data/H2_PAL/SEMB/H2_PAL_CDP_10x10_SG7.sgy'\n",
    "part_path = '/data/H2_PAL/SEMB/H2_PAL_CDP.sgy'\n",
    "full_path = '/data/H2_PAL/SEMB/H2_PAL_SR-lines.sgy'\n",
    "\n",
    "path_to_model = '../models/trained_model.dill'\n",
    "\n",
    "config = {\n",
    "    'build': False,\n",
    "    'device': 'gpu:0',\n",
    "    'load/path':  path_to_model\n",
    "}\n",
    "\n",
    "supergather_index = FieldIndex(name='raw', extra_headers=['offset', 'CDP_X', 'CDP_Y', 'SourceX', 'SourceY'], path=supergather_path)\n",
    "supergather_index_cdp = CustomIndex(supergather_index, index_name='CDP')\n",
    "supergather_dataset = SeismicDataset(supergather_index_cdp)"
   ]
  },
  {
   "cell_type": "markdown",
   "metadata": {},
   "source": [
    "### Supergathers\n",
    "Predict for supergathers and construct quality map for picking prediction"
   ]
  },
  {
   "cell_type": "code",
   "execution_count": 5,
   "metadata": {},
   "outputs": [],
   "source": [
    "supergather_pipeline = (\n",
    "    supergather_dataset.p\n",
    "    .add_namespace(PickingMetrics)\n",
    "    .init_model('static', UNet, 'picking_model', config=config)\n",
    "    .init_variable('metrics')\n",
    "    .init_variable('velocity', [])\n",
    "    .load(components='raw', fmt='segy')\n",
    "    .load(fmt='index', components='offset', src='offset')\n",
    "    .sort_traces(src='raw', dst='raw', sort_by='offset')\n",
    "    .standardize(src='raw', dst='std')\n",
    "    .apply_transform_all(src='std', dst='std', func=lambda x: np.concatenate(x)[: 1350 , np.newaxis, : 1800])\n",
    "    .add_components(components='picking')\n",
    "    .predict_model('picking_model', B('std'), fetches='predictions',\n",
    "                   save_to=B('picking', mode='a'))\n",
    "    .mask_to_pick(src='picking', dst='picking', labels=False)\n",
    "    .apply_transform_all(src='picking', dst='picking', func=lambda x: x[np.newaxis] * 2) ### переписать!!!!\n",
    "    .add_muting(src='raw', dst='raw', picking='picking',\n",
    "                interp_type='regression', indent=500)\n",
    "    .calculate_semblance(src='raw', dst='raw_semblance', velocities=[1300, 5500],\n",
    "                         velocities_length=140, window=25)\n",
    "    .find_velocity_model(src='raw_semblance', dst='velocity_points', v_0=1600, v_n=3500, n_iter=300)\n",
    "    .update(V('velocity', mode='a'), [B('index').indices[0], B('velocity_points')])\n",
    "    .velocity(B(), src_picking='picking', dst='diff')\n",
    "    .get_coords_fm_supergather(src=['CDP_X', 'CDP_Y'], dst='coords')\n",
    "    .gather_metrics(MetricsMap, metrics=B('diff'),\n",
    "                    coords=B('coords'),\n",
    "                    save_to=V('metrics', mode='a'))\n",
    "    .run_later(1, n_epochs=1, drop_last=False, shuffle=False, bar=True)\n",
    ")"
   ]
  },
  {
   "cell_type": "code",
   "execution_count": 6,
   "metadata": {},
   "outputs": [],
   "source": [
    "batch = supergather_pipeline.next_batch(1)"
   ]
  },
  {
   "cell_type": "code",
   "execution_count": 8,
   "metadata": {},
   "outputs": [
    {
     "name": "stderr",
     "output_type": "stream",
     "text": [
      "100%|██████████| 43/43 [03:40<00:00,  5.12s/it]\n"
     ]
    },
    {
     "data": {
      "text/plain": [
       "<seismicpro.batchflow.batchflow.pipeline.Pipeline at 0x7f20a84925c0>"
      ]
     },
     "execution_count": 8,
     "metadata": {},
     "output_type": "execute_result"
    }
   ],
   "source": [
    "supergather_pipeline.run(1, n_epochs=1, drop_last=False, shuffle=False, bar=True)"
   ]
  },
  {
   "cell_type": "code",
   "execution_count": 15,
   "metadata": {},
   "outputs": [
    {
     "data": {
      "image/png": "[encoded data removed]",
      "text/plain": [
       "<Figure size 720x504 with 2 Axes>"
      ]
     },
     "metadata": {
      "needs_background": "light"
     },
     "output_type": "display_data"
    },
    {
     "name": "stdout",
     "output_type": "stream",
     "text": [
      "Mean value of metrics: 5.1\n"
     ]
    }
   ],
   "source": [
    "metrics = supergather_pipeline.v('metrics')\n",
    "mean_metrics = metrics.evaluate('map', bin_size=250, figsize=(10, 7), save_dir=None, pad=True)\n",
    "print('Mean value of metrics: {:.3}'.format(mean_metrics))"
   ]
  },
  {
   "cell_type": "markdown",
   "metadata": {},
   "source": [
    "### Map for CSP\n",
    "Construct quality map for picking model"
   ]
  },
  {
   "cell_type": "code",
   "execution_count": 4,
   "metadata": {},
   "outputs": [],
   "source": [
    "full_index = FieldIndex(name='raw', extra_headers=['offset', 'CDP_X', 'CDP_Y', 'SourceX', 'SourceY'], path=full_path)\n",
    "full_dataset = SeismicDataset(full_index)"
   ]
  },
  {
   "cell_type": "code",
   "execution_count": 5,
   "metadata": {},
   "outputs": [],
   "source": [
    "full_pipeline = (\n",
    "    full_dataset.p\n",
    "    .add_namespace(PickingMetrics)\n",
    "    .init_model('static', UNet, 'picking_model', config=config)\n",
    "    .init_variable('metrics')\n",
    "    .init_variable('velocity', [])\n",
    "    .load(components='raw', fmt='segy')\n",
    "    .load(fmt='index', components='offset', src='offset')\n",
    "    .sort_traces(src='raw', dst='raw', sort_by='offset')\n",
    "    .standardize(src='raw', dst='std')\n",
    "    .apply_transform_all(src='std', dst='std', func=lambda x: np.concatenate(x)[: 1800, np.newaxis, : 1500])\n",
    "    .add_components(components='picking')\n",
    "    .predict_model('picking_model', B('std'), fetches='predictions',\n",
    "                   save_to=B('picking', mode='a'))\n",
    "    .mask_to_pick(src='picking', dst='picking', labels=False)\n",
    "    .apply_transform_all(src='picking', dst='picking', func=lambda x: x[np.newaxis] * 2) ### переписать!!!!\n",
    "    .add_muting(src='raw', dst='raw', picking='picking',\n",
    "                interp_type='regression', indent=500)\n",
    "    .calculate_semblance(src='raw', dst='raw_semblance', velocities=[1300, 5500],\n",
    "                         velocities_length=140, window=25)\n",
    "    .find_velocity_model(src='raw_semblance', dst='velocity_points', v_0=1600, v_n=3500, n_iter=300)\n",
    "    .update(V('velocity', mode='a'), [B('velocity_points')])\n",
    "    .velocity(B(), src_picking='picking', dst='diff')\n",
    "    .gather_metrics(MetricsMap, metrics=B('diff'),\n",
    "                    coords=B('index').get_df()[['SourceX', 'SourceY']].drop_duplicates().values,\n",
    "                    save_to=V('metrics', mode='a'))\n",
    "    .run_later(1, n_epochs=1, drop_last=False, shuffle=False, bar=True)\n",
    ")"
   ]
  },
  {
   "cell_type": "code",
   "execution_count": 6,
   "metadata": {},
   "outputs": [
    {
     "name": "stderr",
     "output_type": "stream",
     "text": [
      "100%|██████████| 3421/3421 [5:18:31<00:00,  5.59s/it]  \n"
     ]
    },
    {
     "data": {
      "text/plain": [
       "<seismicpro.batchflow.batchflow.pipeline.Pipeline at 0x7f63a52b6cf8>"
      ]
     },
     "execution_count": 6,
     "metadata": {},
     "output_type": "execute_result"
    }
   ],
   "source": [
    "full_pipeline.run()"
   ]
  },
  {
   "cell_type": "code",
   "execution_count": 13,
   "metadata": {},
   "outputs": [
    {
     "data": {
      "image/png": "[encoded data removed]",
      "text/plain": [
       "<Figure size 720x504 with 2 Axes>"
      ]
     },
     "metadata": {
      "needs_background": "light"
     },
     "output_type": "display_data"
    },
    {
     "name": "stdout",
     "output_type": "stream",
     "text": [
      "Mean value of metrics: 1.89\n"
     ]
    }
   ],
   "source": [
    "metrics = full_pipeline.v('metrics')\n",
    "mean_metrics = metrics.evaluate('map', bin_size=300, figsize=(10, 7), save_dir='./huge_sources_all.png', pad=True)\n",
    "print('Mean value of metrics: {:.3}'.format(mean_metrics))"
   ]
  },
  {
   "cell_type": "code",
   "execution_count": 61,
   "metadata": {},
   "outputs": [],
   "source": [
    "vel_list = np.array(full_pipeline.v('velocity'))\n",
    "vel_list = np.concatenate(np.concatenate(np.concatenate(vel_list))).reshape(-1, 2250, 2)\n",
    "\n",
    "mean_velocity = np.mean(vel_list, axis=0)"
   ]
  },
  {
   "cell_type": "markdown",
   "metadata": {},
   "source": [
    "Calculate the quality of found speed law and plot the quality map."
   ]
  },
  {
   "cell_type": "code",
   "execution_count": 102,
   "metadata": {},
   "outputs": [],
   "source": [
    "from seismicpro.batchflow import inbatch_parallel\n",
    "class VelMetrics:\n",
    "    @staticmethod\n",
    "    @inbatch_parallel(init=\"_init_component\", target=\"threads\")\n",
    "    def calculate_vel_diff(batch, index, dst, mean_vel, current_vel):\n",
    "        pos = batch.get_pos(None, None, index)\n",
    "        getattr(batch, dst)[pos] = np.mean(np.abs(mean_vel[:, 1] - current_vel[:, 1]))\n",
    "        return batch"
   ]
  },
  {
   "cell_type": "code",
   "execution_count": 107,
   "metadata": {},
   "outputs": [],
   "source": [
    "vel_metrics_ppl = (\n",
    "    full_dataset.p\n",
    "    .add_namespace(VelMetrics)\n",
    "    .init_variable('metrics')\n",
    "    .init_variable('vel_list', vel_list)\n",
    "    .calculate_vel_diff(B(), dst='vel_diff', \n",
    "                        mean_vel=mean_velocity, current_vel=V('vel_list')[I()-1])\n",
    "    .gather_metrics(MetricsMap, metrics=B('vel_diff'),\n",
    "                    coords=B('index').get_df()[['SourceX', 'SourceY']].drop_duplicates().values,\n",
    "                    save_to=V('metrics', mode='a'))\n",
    "    .run_later(1, n_epochs=1, drop_last=False, shuffle=False, bar=False)\n",
    ")"
   ]
  },
  {
   "cell_type": "code",
   "execution_count": 108,
   "metadata": {},
   "outputs": [
    {
     "data": {
      "text/plain": [
       "<seismicpro.batchflow.batchflow.pipeline.Pipeline at 0x7f632c639a20>"
      ]
     },
     "execution_count": 108,
     "metadata": {},
     "output_type": "execute_result"
    }
   ],
   "source": [
    "vel_metrics_ppl.run()"
   ]
  },
  {
   "cell_type": "code",
   "execution_count": 109,
   "metadata": {},
   "outputs": [
    {
     "data": {
      "image/png": "[encoded data removed]",
      "text/plain": [
       "<Figure size 720x504 with 2 Axes>"
      ]
     },
     "metadata": {
      "needs_background": "light"
     },
     "output_type": "display_data"
    },
    {
     "name": "stdout",
     "output_type": "stream",
     "text": [
      "Mean value of metrics: 4.63e+02\n"
     ]
    }
   ],
   "source": [
    "vel_metrics = vel_metrics_ppl.v('metrics')\n",
    "mean_metrics = vel_metrics.evaluate('map', bin_size=300, figsize=(10, 7), save_dir='./vel_metrics.png', pad=True)\n",
    "print('Mean value of metrics: {:.3}'.format(mean_metrics))"
   ]
  }
 ],
 "metadata": {
  "kernelspec": {
   "display_name": "Python 3",
   "language": "python",
   "name": "python3"
  },
  "language_info": {
   "codemirror_mode": {
    "name": "ipython",
    "version": 3
   },
   "file_extension": ".py",
   "mimetype": "text/x-python",
   "name": "python",
   "nbconvert_exporter": "python",
   "pygments_lexer": "ipython3",
   "version": "3.6.9"
  }
 },
 "nbformat": 4,
 "nbformat_minor": 4
}
