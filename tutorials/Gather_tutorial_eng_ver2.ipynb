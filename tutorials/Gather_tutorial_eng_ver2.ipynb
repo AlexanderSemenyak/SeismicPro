{
 "cells": [
  {
   "cell_type": "code",
   "execution_count": 34,
   "metadata": {},
   "outputs": [],
   "source": [
    "import sys # delete after finish\n",
    "sys.path.append('..') # delete after finish\n",
    "\n",
    "from seismicpro import SeismicDataset, SeismicIndex, Survey, Gather\n",
    "from seismicpro.batchflow import BA, B\n",
    "import matplotlib.pyplot as plt"
   ]
  },
  {
   "cell_type": "code",
   "execution_count": 26,
   "metadata": {},
   "outputs": [],
   "source": [
    "sgy_path = './data/small_survey.sgy'\n",
    "header_cols = [\"TraceNumber\", \"offset\", \"INLINE_3D\", \"CROSSLINE_3D\", 'CDP'] # порезать до необходимого минимума\n",
    "survey = Survey(sgy_path, header_index='FieldRecord', header_cols=header_cols, name='raw')"
   ]
  },
  {
   "cell_type": "code",
   "execution_count": 27,
   "metadata": {},
   "outputs": [],
   "source": [
    "dataset = SeismicDataset(surveys=survey)"
   ]
  },
  {
   "cell_type": "code",
   "execution_count": 49,
   "metadata": {},
   "outputs": [],
   "source": [
    "ix = SeismicIndex(surveys=[survey, survey], mode='c')"
   ]
  },
  {
   "cell_type": "code",
   "execution_count": 50,
   "metadata": {},
   "outputs": [
    {
     "data": {
      "text/plain": [
       "{'raw': [<seismicpro.src.survey.Survey at 0x7f96ec994160>,\n",
       "  <seismicpro.src.survey.Survey at 0x7f96ec994160>]}"
      ]
     },
     "execution_count": 50,
     "metadata": {},
     "output_type": "execute_result"
    }
   ],
   "source": [
    "ix.surveys_dict"
   ]
  },
  {
   "cell_type": "code",
   "execution_count": 46,
   "metadata": {},
   "outputs": [
    {
     "data": {
      "text/html": [
       "<div>\n",
       "<style scoped>\n",
       "    .dataframe tbody tr th:only-of-type {\n",
       "        vertical-align: middle;\n",
       "    }\n",
       "\n",
       "    .dataframe tbody tr th {\n",
       "        vertical-align: top;\n",
       "    }\n",
       "\n",
       "    .dataframe thead th {\n",
       "        text-align: right;\n",
       "    }\n",
       "</style>\n",
       "<table border=\"1\" class=\"dataframe\">\n",
       "  <thead>\n",
       "    <tr style=\"text-align: right;\">\n",
       "      <th></th>\n",
       "      <th></th>\n",
       "      <th>INLINE_3D</th>\n",
       "      <th>CROSSLINE_3D</th>\n",
       "      <th>CDP</th>\n",
       "      <th>TraceNumber</th>\n",
       "      <th>offset</th>\n",
       "      <th>TRACE_SEQUENCE_FILE</th>\n",
       "    </tr>\n",
       "    <tr>\n",
       "      <th>CONCAT_ID</th>\n",
       "      <th>FieldRecord</th>\n",
       "      <th></th>\n",
       "      <th></th>\n",
       "      <th></th>\n",
       "      <th></th>\n",
       "      <th></th>\n",
       "      <th></th>\n",
       "    </tr>\n",
       "  </thead>\n",
       "  <tbody>\n",
       "    <tr>\n",
       "      <th rowspan=\"11\" valign=\"top\">0</th>\n",
       "      <th>111916</th>\n",
       "      <td>1607</td>\n",
       "      <td>538</td>\n",
       "      <td>2130094</td>\n",
       "      <td>1656</td>\n",
       "      <td>127</td>\n",
       "      <td>5185</td>\n",
       "    </tr>\n",
       "    <tr>\n",
       "      <th>111916</th>\n",
       "      <td>1547</td>\n",
       "      <td>517</td>\n",
       "      <td>2050513</td>\n",
       "      <td>195</td>\n",
       "      <td>3304</td>\n",
       "      <td>6344</td>\n",
       "    </tr>\n",
       "    <tr>\n",
       "      <th>111916</th>\n",
       "      <td>1595</td>\n",
       "      <td>474</td>\n",
       "      <td>2114118</td>\n",
       "      <td>1304</td>\n",
       "      <td>3303</td>\n",
       "      <td>6343</td>\n",
       "    </tr>\n",
       "    <tr>\n",
       "      <th>111916</th>\n",
       "      <td>1601</td>\n",
       "      <td>604</td>\n",
       "      <td>2122204</td>\n",
       "      <td>1578</td>\n",
       "      <td>3301</td>\n",
       "      <td>6342</td>\n",
       "    </tr>\n",
       "    <tr>\n",
       "      <th>111916</th>\n",
       "      <td>1601</td>\n",
       "      <td>473</td>\n",
       "      <td>2122073</td>\n",
       "      <td>1447</td>\n",
       "      <td>3301</td>\n",
       "      <td>6341</td>\n",
       "    </tr>\n",
       "    <tr>\n",
       "      <th>...</th>\n",
       "      <td>...</td>\n",
       "      <td>...</td>\n",
       "      <td>...</td>\n",
       "      <td>...</td>\n",
       "      <td>...</td>\n",
       "      <td>...</td>\n",
       "    </tr>\n",
       "    <tr>\n",
       "      <th>111920</th>\n",
       "      <td>1565</td>\n",
       "      <td>563</td>\n",
       "      <td>2074427</td>\n",
       "      <td>661</td>\n",
       "      <td>2310</td>\n",
       "      <td>4027</td>\n",
       "    </tr>\n",
       "    <tr>\n",
       "      <th>111920</th>\n",
       "      <td>1571</td>\n",
       "      <td>576</td>\n",
       "      <td>2082396</td>\n",
       "      <td>818</td>\n",
       "      <td>2308</td>\n",
       "      <td>4026</td>\n",
       "    </tr>\n",
       "    <tr>\n",
       "      <th>111920</th>\n",
       "      <td>1571</td>\n",
       "      <td>525</td>\n",
       "      <td>2082345</td>\n",
       "      <td>767</td>\n",
       "      <td>2308</td>\n",
       "      <td>4025</td>\n",
       "    </tr>\n",
       "    <tr>\n",
       "      <th>111920</th>\n",
       "      <td>1577</td>\n",
       "      <td>518</td>\n",
       "      <td>2090294</td>\n",
       "      <td>904</td>\n",
       "      <td>2297</td>\n",
       "      <td>4023</td>\n",
       "    </tr>\n",
       "    <tr>\n",
       "      <th>111920</th>\n",
       "      <td>1583</td>\n",
       "      <td>500</td>\n",
       "      <td>2098232</td>\n",
       "      <td>1030</td>\n",
       "      <td>2851</td>\n",
       "      <td>4320</td>\n",
       "    </tr>\n",
       "  </tbody>\n",
       "</table>\n",
       "<p>8640 rows × 6 columns</p>\n",
       "</div>"
      ],
      "text/plain": [
       "                       INLINE_3D  CROSSLINE_3D      CDP  TraceNumber  offset  \\\n",
       "CONCAT_ID FieldRecord                                                          \n",
       "0         111916            1607           538  2130094         1656     127   \n",
       "          111916            1547           517  2050513          195    3304   \n",
       "          111916            1595           474  2114118         1304    3303   \n",
       "          111916            1601           604  2122204         1578    3301   \n",
       "          111916            1601           473  2122073         1447    3301   \n",
       "...                          ...           ...      ...          ...     ...   \n",
       "          111920            1565           563  2074427          661    2310   \n",
       "          111920            1571           576  2082396          818    2308   \n",
       "          111920            1571           525  2082345          767    2308   \n",
       "          111920            1577           518  2090294          904    2297   \n",
       "          111920            1583           500  2098232         1030    2851   \n",
       "\n",
       "                       TRACE_SEQUENCE_FILE  \n",
       "CONCAT_ID FieldRecord                       \n",
       "0         111916                      5185  \n",
       "          111916                      6344  \n",
       "          111916                      6343  \n",
       "          111916                      6342  \n",
       "          111916                      6341  \n",
       "...                                    ...  \n",
       "          111920                      4027  \n",
       "          111920                      4026  \n",
       "          111920                      4025  \n",
       "          111920                      4023  \n",
       "          111920                      4320  \n",
       "\n",
       "[8640 rows x 6 columns]"
      ]
     },
     "execution_count": 46,
     "metadata": {},
     "output_type": "execute_result"
    }
   ],
   "source": [
    "dataset.index.headers"
   ]
  },
  {
   "cell_type": "code",
   "execution_count": 45,
   "metadata": {},
   "outputs": [
    {
     "data": {
      "text/plain": [
       "{'raw': [<seismicpro.src.survey.Survey at 0x7f96ec994160>]}"
      ]
     },
     "execution_count": 45,
     "metadata": {},
     "output_type": "execute_result"
    }
   ],
   "source": [
    "dataset.index.surveys_dict"
   ]
  },
  {
   "cell_type": "code",
   "execution_count": 42,
   "metadata": {},
   "outputs": [],
   "source": [
    "pipeline = (dataset.p\n",
    "    .load(src='raw')\n",
    "    .print(B('raw'))\n",
    "    .print(BA('raw')['offset'])\n",
    "#     .load(src='raw2')\n",
    "#     .call(lambda b : b * 0, B('raw2'), save_to=BA('raw2').data)\n",
    "#     .update(BA('raw').data, BA('raw2').data)\n",
    ")"
   ]
  },
  {
   "cell_type": "code",
   "execution_count": 43,
   "metadata": {},
   "outputs": [
    {
     "name": "stdout",
     "output_type": "stream",
     "text": [
      "[<seismicpro.src.gather.Gather object at 0x7f96ec61a748>\n",
      " <seismicpro.src.gather.Gather object at 0x7f96ec61a9b0>\n",
      " <seismicpro.src.gather.Gather object at 0x7f96ec7c79e8>]\n",
      "[[ 127 3304 3303 ... 2324 2327 2314]\n",
      " [3335 3328 3328 ... 2355 2380 2345]\n",
      " [3266 3274 3274 ... 2275 2295 4914]]\n"
     ]
    }
   ],
   "source": [
    "batch = pipeline.next_batch(3)"
   ]
  },
  {
   "cell_type": "code",
   "execution_count": 37,
   "metadata": {},
   "outputs": [
    {
     "data": {
      "text/plain": [
       "array([<seismicpro.src.gather.Gather object at 0x7f96ec7c2828>],\n",
       "      dtype=object)"
      ]
     },
     "execution_count": 37,
     "metadata": {},
     "output_type": "execute_result"
    }
   ],
   "source": [
    "batch.raw"
   ]
  },
  {
   "cell_type": "markdown",
   "metadata": {},
   "source": [
    "### Gather Tutorial"
   ]
  },
  {
   "cell_type": "markdown",
   "metadata": {},
   "source": [
    "The Tutorial contains general information about the Gather class, helpful attributes and some useful methods. <br>"
   ]
  },
  {
   "cell_type": "markdown",
   "metadata": {},
   "source": [
    "### Content"
   ]
  },
  {
   "cell_type": "markdown",
   "metadata": {},
   "source": [
    "[Intro](#Intro) <br>\n",
    "[Starting](#Starting) <br>\n",
    "[Attributes](#Attributes) <br>\n",
    "[General Methods](#General-Methods)<br>\n",
    "[Normalization Methods](#Normalization-Methods) <br>\n",
    "[Conclusion](#Conclusion) <br>"
   ]
  },
  {
   "cell_type": "code",
   "execution_count": null,
   "metadata": {},
   "outputs": [],
   "source": [
    "import sys # delete after finish\n",
    "sys.path.append('..') # delete after finish\n",
    "\n",
    "from seismicpro import Survey\n",
    "import matplotlib.pyplot as plt"
   ]
  },
  {
   "cell_type": "markdown",
   "metadata": {},
   "source": [
    "### Intro"
   ]
  },
  {
   "cell_type": "markdown",
   "metadata": {},
   "source": [
    "Пару слов о Survey <br>\n",
    "Что такое Gather? <br>\n",
    "В чем отличие от Survey? <br>\n",
    "Зачем понадобился отдельный объект? <br>\n",
    "Как помогает Gather? <br>"
   ]
  },
  {
   "cell_type": "markdown",
   "metadata": {},
   "source": [
    "### Starting\n",
    "We will consider the creation of a Gather class and tell about it structure."
   ]
  },
  {
   "cell_type": "markdown",
   "metadata": {},
   "source": [
    "Gather class based on Survey class [tutorial here]. поднять в Intro <br> \n",
    "We need to create Survey first."
   ]
  },
  {
   "cell_type": "code",
   "execution_count": null,
   "metadata": {},
   "outputs": [],
   "source": [
    "sgy_path = './data/small_survey.sgy'\n",
    "header_cols = [\"TraceNumber\", \"offset\", \"INLINE_3D\", \"CROSSLINE_3D\", 'CDP'] # порезать до необходимого минимума\n",
    "survey = Survey(sgy_path, header_index='FieldRecord', header_cols=header_cols)"
   ]
  },
  {
   "cell_type": "markdown",
   "metadata": {},
   "source": [
    "#### samle_gather"
   ]
  },
  {
   "cell_type": "markdown",
   "metadata": {},
   "source": [
    "Now we could create Gather class by using "
   ]
  },
  {
   "cell_type": "code",
   "execution_count": null,
   "metadata": {},
   "outputs": [],
   "source": [
    "gather = survey.sample_gather()\n",
    "gather.plot() #show here"
   ]
  },
  {
   "cell_type": "markdown",
   "metadata": {},
   "source": [
    "Let's see information about the created class object"
   ]
  },
  {
   "cell_type": "code",
   "execution_count": null,
   "metadata": {},
   "outputs": [],
   "source": [
    "gather.info()"
   ]
  },
  {
   "cell_type": "markdown",
   "metadata": {},
   "source": [
    "Tell about viewed information. Point on `Index name` and `Index value`\n",
    "\n",
    "(!) tips <br>\n",
    "Gather statistics auto calcs when `info()` called "
   ]
  },
  {
   "cell_type": "markdown",
   "metadata": {},
   "source": [
    "#### get_gather"
   ]
  },
  {
   "cell_type": "markdown",
   "metadata": {},
   "source": [
    "получаем список уникальных индексов"
   ]
  },
  {
   "cell_type": "code",
   "execution_count": null,
   "metadata": {},
   "outputs": [],
   "source": [
    "survey.headers.index.drop_duplicates()"
   ]
  },
  {
   "cell_type": "markdown",
   "metadata": {},
   "source": [
    "Объясняем метод `get_gather`"
   ]
  },
  {
   "cell_type": "code",
   "execution_count": null,
   "metadata": {},
   "outputs": [],
   "source": [
    "gather = survey.get_gather(index=111918, limits=(0,3000)) # limits remove maybe...\n",
    "gather.info()"
   ]
  },
  {
   "cell_type": "markdown",
   "metadata": {},
   "source": [
    "<b> Notes </b>\n",
    "если в Сюрвее есть лимиты, то они же будут в Gather"
   ]
  },
  {
   "cell_type": "markdown",
   "metadata": {},
   "source": [
    "Now we learn how to create `Gather`"
   ]
  },
  {
   "cell_type": "markdown",
   "metadata": {},
   "source": [
    "### Attributes"
   ]
  },
  {
   "cell_type": "markdown",
   "metadata": {},
   "source": [
    "Let discuss about most useful attributes of Survey class"
   ]
  },
  {
   "cell_type": "markdown",
   "metadata": {},
   "source": [
    "<b>`headers`</b> - хэддеры берем из Survey для каждой каждой трасы, попавшей в Gather. <br>"
   ]
  },
  {
   "cell_type": "code",
   "execution_count": null,
   "metadata": {},
   "outputs": [],
   "source": [
    "gather.headers"
   ]
  },
  {
   "cell_type": "markdown",
   "metadata": {},
   "source": [
    "<b>`data`</b> - trace data, numpy array with shape [Number of traces, Trace length]"
   ]
  },
  {
   "cell_type": "code",
   "execution_count": null,
   "metadata": {},
   "outputs": [],
   "source": [
    "gather.data"
   ]
  },
  {
   "cell_type": "code",
   "execution_count": null,
   "metadata": {},
   "outputs": [],
   "source": [
    "gather.data.shape"
   ]
  },
  {
   "cell_type": "markdown",
   "metadata": {},
   "source": [
    "<b>`samples`</b> - array of samples with appropriate intervals, ms"
   ]
  },
  {
   "cell_type": "code",
   "execution_count": null,
   "metadata": {},
   "outputs": [],
   "source": [
    "gather.samples"
   ]
  },
  {
   "cell_type": "markdown",
   "metadata": {},
   "source": [
    "<b>`sample_rate` </b> - time resolution of traces, ms"
   ]
  },
  {
   "cell_type": "code",
   "execution_count": null,
   "metadata": {},
   "outputs": [],
   "source": [
    "gather.sample_rate"
   ]
  },
  {
   "cell_type": "markdown",
   "metadata": {},
   "source": [
    "We learned about the main attributes of Gather class"
   ]
  },
  {
   "cell_type": "markdown",
   "metadata": {},
   "source": [
    "`sort_by` и `mask` \n",
    "прописывать в методах "
   ]
  },
  {
   "cell_type": "markdown",
   "metadata": {},
   "source": [
    "mask using in picking tasks only"
   ]
  },
  {
   "cell_type": "markdown",
   "metadata": {},
   "source": [
    "### General Methods"
   ]
  },
  {
   "cell_type": "markdown",
   "metadata": {},
   "source": [
    "General methods"
   ]
  },
  {
   "cell_type": "markdown",
   "metadata": {},
   "source": [
    "#### <i>plot </i>"
   ]
  },
  {
   "cell_type": "markdown",
   "metadata": {},
   "source": [
    "show gather information"
   ]
  },
  {
   "cell_type": "code",
   "execution_count": null,
   "metadata": {},
   "outputs": [],
   "source": [
    "#gather = survey.sample_gather().sort(by='offset') # descent?\n",
    "gather.plot()"
   ]
  },
  {
   "cell_type": "markdown",
   "metadata": {},
   "source": [
    "#### <i>sort </i>"
   ]
  },
  {
   "cell_type": "markdown",
   "metadata": {},
   "source": [
    "sort the traces in gather by headers"
   ]
  },
  {
   "cell_type": "code",
   "execution_count": null,
   "metadata": {},
   "outputs": [],
   "source": [
    "gather = survey.sample_gather().sort(by='CDP')\n",
    "gather.plot()"
   ]
  },
  {
   "cell_type": "markdown",
   "metadata": {},
   "source": [
    "добавляет атрибут `sort_by`"
   ]
  },
  {
   "cell_type": "code",
   "execution_count": null,
   "metadata": {},
   "outputs": [],
   "source": [
    "gather.sort_by"
   ]
  },
  {
   "cell_type": "markdown",
   "metadata": {},
   "source": [
    "#### <i>copy </i>"
   ]
  },
  {
   "cell_type": "markdown",
   "metadata": {},
   "source": [
    "make copy of the gather"
   ]
  },
  {
   "cell_type": "markdown",
   "metadata": {},
   "source": [
    "Нужно ли сравнение копии и оригинала?\n",
    "Полезный метод, т.к. все методы работают inplace"
   ]
  },
  {
   "cell_type": "code",
   "execution_count": null,
   "metadata": {},
   "outputs": [],
   "source": [
    "gather_copy = gather.copy()\n",
    "gather.sort(by='offset')\n",
    "gather.plot()"
   ]
  },
  {
   "cell_type": "code",
   "execution_count": null,
   "metadata": {},
   "outputs": [],
   "source": [
    "gather_copy.plot()"
   ]
  },
  {
   "cell_type": "markdown",
   "metadata": {},
   "source": [
    "#### <i>dump </i>"
   ]
  },
  {
   "cell_type": "markdown",
   "metadata": {},
   "source": [
    "save gather as file in SEG-Y format"
   ]
  },
  {
   "cell_type": "code",
   "execution_count": null,
   "metadata": {},
   "outputs": [],
   "source": [
    "gather.dump(path='./data/', name='test_gather') "
   ]
  },
  {
   "cell_type": "markdown",
   "metadata": {},
   "source": [
    "Tell about `name` and `copy_header` params"
   ]
  },
  {
   "cell_type": "markdown",
   "metadata": {},
   "source": [
    "### Normalization Methods"
   ]
  },
  {
   "cell_type": "markdown",
   "metadata": {},
   "source": [
    "возможно переименовать. Например Data Processing"
   ]
  },
  {
   "cell_type": "markdown",
   "metadata": {},
   "source": [
    "#### <i>scale_standard </i>"
   ]
  },
  {
   "cell_type": "markdown",
   "metadata": {},
   "source": [
    "Приведение значений трасс к среднему 0 и дисперсии 1\n",
    "\n",
    "All methods works inplace. I use copy to show you how methods work on the base `Gather`."
   ]
  },
  {
   "cell_type": "code",
   "execution_count": null,
   "metadata": {},
   "outputs": [],
   "source": [
    "gather_scaled = gather.copy()\n",
    "\n",
    "gather_scaled.scale_standard()\n",
    "print(f'Mean of all trace is {gather_scaled.data.mean():.2f}')\n",
    "print(f'Standart deviation of all trace is {gather_scaled.data.std():.2f}')"
   ]
  },
  {
   "cell_type": "code",
   "execution_count": null,
   "metadata": {},
   "outputs": [],
   "source": [
    "_ = plt.hist(gather_scaled.data.ravel(), bins=20)"
   ]
  },
  {
   "cell_type": "code",
   "execution_count": null,
   "metadata": {},
   "outputs": [],
   "source": [
    "gather_scaled = gather.copy()\n",
    "gather_scaled.scale_standard(use_global=True)\n",
    "_ = plt.hist(gather_scaled.data.ravel(), bins=20)"
   ]
  },
  {
   "cell_type": "code",
   "execution_count": null,
   "metadata": {},
   "outputs": [],
   "source": [
    "survey.collect_stats()"
   ]
  },
  {
   "cell_type": "markdown",
   "metadata": {},
   "source": [
    "#### <i>scale_maxabs </i>gather.scale_standard()\n",
    "gather.info()"
   ]
  },
  {
   "cell_type": "code",
   "execution_count": null,
   "metadata": {},
   "outputs": [],
   "source": [
    "gather_scaled = gather.copy()\n",
    "\n",
    "gather_scaled.scale_maxabs()\n",
    "print(f'Min of all trace is {gather_scaled.data.min():.2f}')\n",
    "print(f'Max of all trace is {gather_scaled.data.max():.2f}')"
   ]
  },
  {
   "cell_type": "code",
   "execution_count": null,
   "metadata": {},
   "outputs": [],
   "source": [
    "_ = plt.hist(gather_scaled.data.ravel(), bins=20)"
   ]
  },
  {
   "cell_type": "code",
   "execution_count": null,
   "metadata": {},
   "outputs": [],
   "source": [
    "gather_scaled = gather.copy()\n",
    "gather_scaled.scale_maxabs(q_min=0.01, q_max=0.99)\n",
    "_ = plt.hist(gather_scaled.data.ravel(), bins=20)"
   ]
  },
  {
   "cell_type": "code",
   "execution_count": null,
   "metadata": {},
   "outputs": [],
   "source": [
    "gather_scaled = gather.copy()\n",
    "gather_scaled.scale_maxabs(q_min=0.01, q_max=0.99, clip=True)\n",
    "_ = plt.hist(gather_scaled.data.ravel(), bins=20)"
   ]
  },
  {
   "cell_type": "markdown",
   "metadata": {},
   "source": [
    "#### <i>scale_minmax </i>"
   ]
  },
  {
   "cell_type": "code",
   "execution_count": null,
   "metadata": {},
   "outputs": [],
   "source": [
    "gather_scaled = gather.copy()\n",
    "\n",
    "gather_scaled.scale_minmax()\n",
    "_ = plt.hist(gather_scaled.data.ravel(), bins=20)"
   ]
  },
  {
   "cell_type": "markdown",
   "metadata": {},
   "source": [
    "### Muter"
   ]
  },
  {
   "cell_type": "markdown",
   "metadata": {},
   "source": [
    "subblock with `mute` and `create_muter` methods"
   ]
  },
  {
   "cell_type": "markdown",
   "metadata": {},
   "source": [
    "First create `Muter` object with `create_muter` method"
   ]
  },
  {
   "cell_type": "markdown",
   "metadata": {},
   "source": [
    "only `from_point` mode explain"
   ]
  },
  {
   "cell_type": "code",
   "execution_count": null,
   "metadata": {},
   "outputs": [],
   "source": [
    "gather_muted = gather.copy()\n",
    "offsets = [50, 1500, 2000, 4000]\n",
    "times = [500, 2000, 1000, 6000]\n",
    "points = {'offsets': offsets, 'times': times}\n",
    "muter = gather_muted.create_muter('points', **points)"
   ]
  },
  {
   "cell_type": "markdown",
   "metadata": {},
   "source": [
    "Second mute еру traces in `Gather` with `Muter` object"
   ]
  },
  {
   "cell_type": "code",
   "execution_count": null,
   "metadata": {},
   "outputs": [],
   "source": [
    "gather_muted.mute(muter, fill_value=0)"
   ]
  },
  {
   "cell_type": "code",
   "execution_count": null,
   "metadata": {},
   "outputs": [],
   "source": [
    "gather_muted.plot()"
   ]
  },
  {
   "cell_type": "markdown",
   "metadata": {},
   "source": [
    "#### <i>qet_quantile </i>"
   ]
  },
  {
   "cell_type": "markdown",
   "metadata": {},
   "source": [
    "return quantile\n",
    "убрать в низ блока нормализации\n",
    "упомянуть не более"
   ]
  },
  {
   "cell_type": "code",
   "execution_count": null,
   "metadata": {},
   "outputs": [],
   "source": [
    "gather.get_quantile(0.01)"
   ]
  },
  {
   "cell_type": "markdown",
   "metadata": {},
   "source": [
    "could return requested quantile of each trace in Gather if `tracewise=True`"
   ]
  },
  {
   "cell_type": "code",
   "execution_count": null,
   "metadata": {},
   "outputs": [],
   "source": [
    "gather.get_quantile(0.01, tracewise=True)"
   ]
  },
  {
   "cell_type": "markdown",
   "metadata": {},
   "source": [
    "could use Survey statistic if its already calculated with `Survey.collect_stats()` <br>\n",
    "`gather.get_quantile(0.01, use_global=True)`"
   ]
  },
  {
   "cell_type": "code",
   "execution_count": null,
   "metadata": {},
   "outputs": [],
   "source": [
    "survey.collect_stats()\n",
    "gather.get_quantile(0.01, use_global=True)"
   ]
  },
  {
   "cell_type": "markdown",
   "metadata": {},
   "source": [
    "### Conclusion"
   ]
  },
  {
   "cell_type": "markdown",
   "metadata": {},
   "source": [
    "In this tutorial we looked at `Gather` class <br>\n",
    "\n",
    "Now we could create `Gather` from `Survey` <br>\n",
    "Learned about the main attributes of this class <br>\n",
    "Showed how the main methods works <br>\n",
    "\n",
    "More information and full documentation you could find [here] <br>\n",
    "\n",
    "Hope it was been useful for you <br>"
   ]
  },
  {
   "cell_type": "code",
   "execution_count": null,
   "metadata": {},
   "outputs": [],
   "source": []
  }
 ],
 "metadata": {
  "kernelspec": {
   "display_name": "Python 3",
   "language": "python",
   "name": "python3"
  },
  "language_info": {
   "codemirror_mode": {
    "name": "ipython",
    "version": 3
   },
   "file_extension": ".py",
   "mimetype": "text/x-python",
   "name": "python",
   "nbconvert_exporter": "python",
   "pygments_lexer": "ipython3",
   "version": "3.6.10"
  }
 },
 "nbformat": 4,
 "nbformat_minor": 4
}
